{
 "cells": [
  {
   "cell_type": "markdown",
   "metadata": {},
   "source": [
    "# metamath graphviz\n",
    "\n",
    "https://github.com/metamath/set.mm/\n",
    "\n",
    "Original Python provided by Mario Carneiro"
   ]
  },
  {
   "cell_type": "raw",
   "metadata": {},
   "source": [
    "# python3 mmviz.py mm/set.mm > mm/set.mm.gv\n",
    "import sys\n",
    "import re\n",
    "from urllib.request import urlopen\n",
    "if len(sys.argv) > 1:\n",
    "    with open(sys.argv[1], 'r') as file:\n",
    "        mm = file.read()\n",
    "else:\n",
    "    mm = urlopen(\"https://raw.githubusercontent.com/metamath/set.mm/develop/set.mm\").read().decode('utf-8')\n",
    "r1 = re.compile(r'\\b(\\S+) \\$p[^$]*\\$=\\s+\\( ([^)]*) \\)', re.DOTALL)\n",
    "r2 = re.compile(r'\\s+', re.DOTALL)\n",
    "print(\"digraph D {\")\n",
    "for match in r1.finditer(mm):\n",
    "    strs = \", \".join(\"\\\"%s\\\"\" % s for s in re.split(r2, match.group(2)) if s)\n",
    "    print(\"  {%s} -> \\\"%s\\\";\" % (strs, match.group(1)))\n",
    "print(\"}\")"
   ]
  },
  {
   "cell_type": "code",
   "execution_count": 1,
   "metadata": {},
   "outputs": [],
   "source": [
    "import sys\n",
    "import re\n",
    "from urllib.request import urlopen\n",
    "import time\n",
    "from graphviz import render"
   ]
  },
  {
   "cell_type": "code",
   "execution_count": 2,
   "metadata": {},
   "outputs": [
    {
     "name": "stdout",
     "output_type": "stream",
     "text": [
      "3.9 seconds\n"
     ]
    }
   ],
   "source": [
    "start_download = time.time()\n",
    "mm = urlopen(\"https://raw.githubusercontent.com/metamath/set.mm/develop/set.mm\").read().decode('utf-8')\n",
    "print(round(time.time()-start_download,2),'seconds')"
   ]
  },
  {
   "cell_type": "code",
   "execution_count": 3,
   "metadata": {},
   "outputs": [
    {
     "name": "stdout",
     "output_type": "stream",
     "text": [
      "4.73 seconds\n"
     ]
    }
   ],
   "source": [
    "start_conversion = time.time()\n",
    "r1 = re.compile(r'\\b(\\S+) \\$p[^$]*\\$=\\s+\\( ([^)]*) \\)', re.DOTALL)\n",
    "r2 = re.compile(r'\\s+', re.DOTALL)\n",
    "gv_str = \"\"\n",
    "gv_str += \"digraph D {\"\n",
    "for match in r1.finditer(mm):\n",
    "    strs = \", \".join(\"\\\"%s\\\"\" % s for s in re.split(r2, match.group(2)) if s)\n",
    "    gv_str += \"  {\" + strs + \"} -> \\\" \"+match.group(1)+\"\\\";\\n\"\n",
    "gv_str += \"}\"\n",
    "print(round(time.time()-start_conversion,2),'seconds')"
   ]
  },
  {
   "cell_type": "code",
   "execution_count": 4,
   "metadata": {},
   "outputs": [],
   "source": [
    "with open('mm.dot','w') as fil:\n",
    "    fil.write(gv_str)"
   ]
  },
  {
   "cell_type": "code",
   "execution_count": null,
   "metadata": {},
   "outputs": [],
   "source": [
    "# the following is equivalent to\n",
    "# dot -Tpng mm.dot -o mm.png\n",
    "\n",
    "# from\n",
    "# https://stackoverflow.com/a/60629033/1164295\n",
    "render('dot', 'png', 'mm.dot')"
   ]
  }
 ],
 "metadata": {
  "kernelspec": {
   "display_name": "Python 3",
   "language": "python",
   "name": "python3"
  },
  "language_info": {
   "codemirror_mode": {
    "name": "ipython",
    "version": 3
   },
   "file_extension": ".py",
   "mimetype": "text/x-python",
   "name": "python",
   "nbconvert_exporter": "python",
   "pygments_lexer": "ipython3",
   "version": "3.6.6"
  }
 },
 "nbformat": 4,
 "nbformat_minor": 2
}
